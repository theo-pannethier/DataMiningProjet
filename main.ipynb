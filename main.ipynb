{
 "cells": [
  {
   "cell_type": "markdown",
   "id": "7fda1921-2fa4-41f0-b23b-d8f45265f8dc",
   "metadata": {},
   "source": [
    "# Projet de DataMining :  \n",
    "\n",
    "Dans ce projet nous allons recommander des images en fonctions d'images déjà \"liké\".\n",
    "Pour cela nous avons commencé par traiter une base de 733 images en recupérant le maximun de données. On recupére notament les données Exif, la taille de l'image, son orientation, ect ...  \n",
    "La base de données d'images vient du lien suivant:\n",
    "https://www.kaggle.com/aksha05/flower-image-dataset\n",
    "## Requirements : "
   ]
  },
  {
   "cell_type": "code",
   "execution_count": 1,
   "id": "480f5202-5367-4a3d-a3b6-d640fb51efae",
   "metadata": {},
   "outputs": [],
   "source": [
    "from PIL import Image\n",
    "from pandas import json_normalize\n",
    "import pandas as pd\n",
    "import json\n",
    "import os\n",
    "import numpy\n",
    "import math\n",
    "import matplotlib.pyplot as plot\n",
    "import time\n",
    "from sklearn.cluster import MiniBatchKMeans\n",
    "from sklearn.cluster import KMeans"
   ]
  },
  {
   "cell_type": "markdown",
   "id": "4e6c5227-4af1-432b-afc3-b873b7fdb8a9",
   "metadata": {},
   "source": [
    "## Récupération des données et organisation de ces données dans un fichier json:"
   ]
  },
  {
   "cell_type": "code",
   "execution_count": 81,
   "id": "48284326-e5c1-4722-a3fb-36d4d486c01b",
   "metadata": {},
   "outputs": [
    {
     "name": "stdout",
     "output_type": "stream",
     "text": [
      "    id_picture           name          size format couleur 1 couleur 2  \\\n",
      "0        00002  bougainvillea   (670, 1191)   JPEG                       \n",
      "1        00003  bougainvillea   (1200, 900)   JPEG                       \n",
      "2        00004  bougainvillea   (1200, 803)   JPEG                       \n",
      "3        00005  bougainvillea  (1200, 1600)   JPEG                       \n",
      "4        00006  bougainvillea   (1170, 715)   JPEG                       \n",
      "..         ...            ...           ...    ...       ...       ...   \n",
      "728      00079          tulip    (890, 720)   JPEG                       \n",
      "729      00080          tulip  (1000, 1000)   JPEG                       \n",
      "730      00081          tulip  (1000, 1000)   JPEG                       \n",
      "731      00083          tulip   (1024, 768)   JPEG                       \n",
      "732      00084          tulip  (3264, 2448)   JPEG                       \n",
      "\n",
      "    couleur 3 couleur 4 orientation  \n",
      "0                          portrait  \n",
      "1                           paysage  \n",
      "2                           paysage  \n",
      "3                          portrait  \n",
      "4                           paysage  \n",
      "..        ...       ...         ...  \n",
      "728                         paysage  \n",
      "729                           carre  \n",
      "730                           carre  \n",
      "731                         paysage  \n",
      "732                         paysage  \n",
      "\n",
      "[733 rows x 9 columns]\n"
     ]
    }
   ],
   "source": [
    "path = \"images/flowers\"\n",
    "dataJson = open('data.json', 'w')\n",
    "dataTot = []\n",
    "for file in os.listdir(path): #On peut lire l'ensemble des fichiers présents dans le dossier donné par path\n",
    "    data = {}\n",
    "    if file[0] != \".\": #On exclue les fichiers \"cachés\"\n",
    "        new_path = path + \"/\" + file\n",
    "        image = Image.open(new_path) #Récupération de l'image avec le module Image de PIL\n",
    "        tupleSize = image.size\n",
    "        data[\"id_picture\"] = file[-9:-4]\n",
    "        data[\"name\"] = file[:-10]\n",
    "        data[\"size\"] = tupleSize\n",
    "        data[\"format\"] = image.format\n",
    "        data[\"couleur 1\"] = ''\n",
    "        data[\"couleur 2\"] = ''\n",
    "        data[\"couleur 3\"] = ''\n",
    "        data[\"couleur 4\"] = ''\n",
    "        if tupleSize[0] > tupleSize[1] : \n",
    "            data[\"orientation\"] = \"paysage\"\n",
    "        elif tupleSize[0] < tupleSize[1] :\n",
    "            data[\"orientation\"] = \"portrait\"\n",
    "        else:\n",
    "            data[\"orientation\"] = \"carre\"\n",
    "        dataTot.append(data)\n",
    "\n",
    "json.dump(dataTot,dataJson, indent = 4)\n",
    "dataJson.close()\n",
    "dataTot_frame = json_normalize(dataTot)\n",
    "print(dataTot_frame)\n",
    "\n"
   ]
  },
  {
   "cell_type": "markdown",
   "id": "1414d65a-03ad-40e5-99cd-049df06c8011",
   "metadata": {},
   "source": [
    "## Détection des couleurs prédominantes"
   ]
  },
  {
   "cell_type": "code",
   "execution_count": 3,
   "id": "167fa0cc-a34e-4ee8-8eba-c196a09d09ee",
   "metadata": {},
   "outputs": [
    {
     "data": {
      "image/png": "[encoded data removed]",
      "text/plain": [
       "<Figure size 432x288 with 1 Axes>"
      ]
     },
     "metadata": {
      "needs_background": "light"
     },
     "output_type": "display_data"
    },
    {
     "name": "stdout",
     "output_type": "stream",
     "text": [
      "1.7850313186645508\n"
     ]
    }
   ],
   "source": [
    "start_time = time.time()\n",
    "imgfile = Image.open(\"images/flowers/daisies_00046.jpg\")\n",
    "n_clusters = 4 #int(input(\"Nombre de clusters pour l'algorithme des K-Means: \"))\n",
    "numarray = numpy.array(imgfile.getdata(), numpy.uint8)\n",
    "clusters = KMeans(n_clusters)\n",
    "clusters.fit(numarray)\n",
    "npbins = numpy.arange(0, n_clusters+1)\n",
    "histogram = numpy.histogram(clusters.labels_, bins=npbins)\n",
    "labels = numpy.unique(clusters.labels_)\n",
    "index1 = {}\n",
    "for i,element in enumerate(histogram[0]):\n",
    "    index1[element] = i\n",
    "#print(index1)\n",
    "histoSort = sorted(histogram[0], reverse=True)\n",
    "#print(histoSort)\n",
    "index2 = {}\n",
    "for i,element in enumerate(histoSort):\n",
    "    index2[i] = element\n",
    "#print(index2)\n",
    "barlist = plot.bar(labels, histoSort)\n",
    "colors = []\n",
    "for k in range(n_clusters):\n",
    "    i = index1[index2[k]]\n",
    "    colors.append('#%02x%02x%02x' % (\n",
    "    math.ceil(clusters.cluster_centers_[i][0]), \n",
    "        math.ceil(clusters.cluster_centers_[i][1]),\n",
    "    math.ceil(clusters.cluster_centers_[i][2])))\n",
    "    barlist[k].set_color('#%02x%02x%02x' % (\n",
    "    math.ceil(clusters.cluster_centers_[i][0]), \n",
    "        math.ceil(clusters.cluster_centers_[i][1]),\n",
    "    math.ceil(clusters.cluster_centers_[i][2])))\n",
    "plot.show()\n",
    "end_time = time.time()\n",
    "total_time = end_time - start_time\n",
    "print(total_time)"
   ]
  },
  {
   "cell_type": "code",
   "execution_count": 4,
   "id": "60d06450-c399-40d3-8efc-84e48d0e8899",
   "metadata": {},
   "outputs": [
    {
     "name": "stderr",
     "output_type": "stream",
     "text": [
      "C:\\tools\\Anaconda3\\lib\\site-packages\\sklearn\\cluster\\_kmeans.py:887: UserWarning: MiniBatchKMeans is known to have a memory leak on Windows with MKL, when there are less chunks than available threads. You can prevent it by setting batch_size >= 3072 or by setting the environment variable OMP_NUM_THREADS=1\n",
      "  warnings.warn(\n"
     ]
    },
    {
     "data": {
      "image/png": "[encoded data removed]",
      "text/plain": [
       "<Figure size 432x288 with 1 Axes>"
      ]
     },
     "metadata": {
      "needs_background": "light"
     },
     "output_type": "display_data"
    },
    {
     "name": "stdout",
     "output_type": "stream",
     "text": [
      "0.7139730453491211\n"
     ]
    }
   ],
   "source": [
    "start_time = time.time()\n",
    "imgfile = Image.open(\"images/flowers/daisies_00046.jpg\")\n",
    "n_clusters = 4\n",
    "numarray = numpy.array(imgfile.getdata(), numpy.uint8)\n",
    "clusters = MiniBatchKMeans(n_clusters)\n",
    "clusters.fit(numarray)\n",
    "npbins = numpy.arange(0, n_clusters+1)\n",
    "histogram = numpy.histogram(clusters.labels_, bins=npbins)\n",
    "labels = numpy.unique(clusters.labels_)\n",
    "index1 = {}\n",
    "for i,element in enumerate(histogram[0]):\n",
    "    index1[element] = i\n",
    "#print(index1)\n",
    "histoSort = sorted(histogram[0], reverse=True)\n",
    "#print(histoSort)\n",
    "index2 = {}\n",
    "for i,element in enumerate(histoSort):\n",
    "    index2[i] = element\n",
    "#print(index2)\n",
    "barlist = plot.bar(labels, histoSort)\n",
    "colors = []\n",
    "colorsDec = []\n",
    "for k in range(n_clusters):\n",
    "    i = index1[index2[k]]\n",
    "    colors.append('#%02x%02x%02x' % (\n",
    "    math.ceil(clusters.cluster_centers_[i][0]), #RGB normalement 0:R 1:G 2:B\n",
    "        math.ceil(clusters.cluster_centers_[i][1]),\n",
    "    math.ceil(clusters.cluster_centers_[i][2])))\n",
    "    \n",
    "    colorsDec.append([math.ceil(clusters.cluster_centers_[i][0]), #RGB normalement 0:R 1:G 2:B\n",
    "        math.ceil(clusters.cluster_centers_[i][1]),\n",
    "    math.ceil(clusters.cluster_centers_[i][2])])\n",
    "    \n",
    "    barlist[k].set_color('#%02x%02x%02x' % (\n",
    "    math.ceil(clusters.cluster_centers_[i][0]), \n",
    "        math.ceil(clusters.cluster_centers_[i][1]),\n",
    "    math.ceil(clusters.cluster_centers_[i][2])))\n",
    "\n",
    "plot.show()\n",
    "end_time = time.time()\n",
    "total_time = end_time - start_time\n",
    "print(total_time)"
   ]
  },
  {
   "cell_type": "markdown",
   "id": "257ef649",
   "metadata": {},
   "source": [
    "On recupere un base de données comprenant un certain nombre de couleurs permetant d'avoir des réferences"
   ]
  },
  {
   "cell_type": "code",
   "execution_count": 86,
   "id": "f441e211",
   "metadata": {},
   "outputs": [
    {
     "name": "stdout",
     "output_type": "stream",
     "text": [
      "    Color Name Credits    R;G;B Dec\n",
      "10       black   N,V,X        0;0;0\n",
      "215       blue   N,V,X      0;0;255\n",
      "222       cyan     N,X    0;255;255\n",
      "342      green     N,X      0;255;0\n",
      "471        red   N,V,X      255;0;0\n",
      "514    magenta     N,X    255;0;255\n",
      "595      white   N,V,X  255;255;255\n",
      "633     yellow   N,V,X    255;255;0\n"
     ]
    }
   ],
   "source": [
    "jsondataColor = json.load(open(\"colours_rgb_shades.json\"))\n",
    "array = []\n",
    "\n",
    "for data in jsondataColor:\n",
    "    array.append([data[\"Color Name\"], data[\"Credits\"], data[\"R;G;B Dec\"]])\n",
    "    \n",
    "dataframe = pd.DataFrame(array, columns=[\"Color Name\", \"Credits\", \"R;G;B Dec\"])\n",
    "dataframe = dataframe.astype(\n",
    "    dtype={\"Color Name\": \"<U200\", \"Credits\": \"<U200\", \"R;G;B Dec\": \"<U200\"}\n",
    ")\n",
    "selectColor = dataframe.loc[(dataframe[\"Credits\"] == \"N,V,X\")  | (dataframe[\"Credits\"] == \"N,X\")]\n",
    "print(selectColor)\n",
    "\n",
    "\n",
    "\n",
    "selectColor.to_json (r'dataSelectColor.json',orient = \"index\",indent = 4)\n",
    "\n"
   ]
  },
  {
   "cell_type": "markdown",
   "id": "02568388-2f8a-49e2-9a25-8529609c3b67",
   "metadata": {},
   "source": [
    "Ici on remarque bien que l'algorithme MiniBatchKMeans va beaucoup plus vite que l'algorithme des KMeans bien qu'il soit moins précis. Nous décidons de l'utiliser tout de même car nous ne pouvons pas nous permettre de prendre trop de temps pour traiter les 700 images !"
   ]
  },
  {
   "cell_type": "markdown",
   "id": "deef3a3b",
   "metadata": {},
   "source": [
    "Nous obtenons des coulours et maintenant nous essayons d'approximer les couleurs"
   ]
  },
  {
   "cell_type": "code",
   "execution_count": 87,
   "id": "451eb05c",
   "metadata": {},
   "outputs": [],
   "source": [
    "with open('dataSelectColor.json') as mon_fichier:\n",
    "    data = json.load(mon_fichier)\n",
    "colorList = [] \n",
    "for key in data :\n",
    "    colorList.append([data[key]['Color Name'],data[key]['R;G;B Dec'].split(\";\")])\n",
    "#modilfication type RGB \n",
    "for element in colorList :\n",
    "    element[1][0] = int(element[1][0])\n",
    "    element[1][1] = int(element[1][1])\n",
    "    element[1][2] = int(element[1][2])\n",
    "\n",
    "ListeCouleurs = colorList"
   ]
  },
  {
   "cell_type": "markdown",
   "id": "b00b5937",
   "metadata": {},
   "source": [
    "On utilise les couleurs de réference dans notre detection de couleurs"
   ]
  },
  {
   "cell_type": "code",
   "execution_count": 88,
   "id": "e816681c",
   "metadata": {},
   "outputs": [
    {
     "name": "stdout",
     "output_type": "stream",
     "text": [
      "[[101, 114, 146], [64, 30, 32], [161, 27, 81], [225, 221, 219]]\n",
      "{'couleur 0': ['blue', [0, 0, 255]], 'couleur 1': ['black', [0, 0, 0]], 'couleur 2': ['red', [255, 0, 0]], 'couleur 3': ['white', [255, 255, 255]]}\n"
     ]
    }
   ],
   "source": [
    "print(colorsDec)\n",
    "\n",
    "data = {}\n",
    "for i in range(0,4) : \n",
    "    R = colorsDec[i][0]\n",
    "    G = colorsDec[i][1]\n",
    "    B = colorsDec[i][2]\n",
    "\n",
    "\n",
    "    #ListeCouleurs = [[255,255,255],[0,0,255],[0,0,125],[0,255,0],[255,0,0],[0,0,0]]\n",
    "    normeMin = 255\n",
    "    couleursRef = []\n",
    "    for couleurs in ListeCouleurs :\n",
    "        norme = (abs(couleurs[1][0]-R) + abs(couleurs[1][1]-G) + abs(couleurs[1][2]-B))/3\n",
    "        if norme <= normeMin : \n",
    "            couleursRef = couleurs\n",
    "            normeMin = norme\n",
    "    data[\"couleur \" + str(i)] = couleursRef\n",
    "print(data)\n"
   ]
  },
  {
   "cell_type": "markdown",
   "id": "3c0a27b6",
   "metadata": {},
   "source": [
    "On modifie le fichier JSON pour les couleurs "
   ]
  },
  {
   "cell_type": "code",
   "execution_count": 89,
   "id": "868d1382-d5ab-4ff7-af78-92cb7feca93a",
   "metadata": {},
   "outputs": [],
   "source": [
    "filename = 'data.json'\n",
    "with open(filename, 'r') as f:\n",
    "    data = json.load(f)\n",
    "    data[0]['couleur 1'] = 12\n",
    "\n",
    "os.remove(filename)\n",
    "with open(filename, 'w') as f:\n",
    "    json.dump(data, f, indent=4)\n",
    "\n"
   ]
  },
  {
   "cell_type": "markdown",
   "id": "0320a64d",
   "metadata": {},
   "source": [
    "On passe maintenant à l'application de l'exemple au projet"
   ]
  },
  {
   "cell_type": "code",
   "execution_count": 90,
   "id": "d8e233dc",
   "metadata": {},
   "outputs": [
    {
     "name": "stdout",
     "output_type": "stream",
     "text": [
      "images/flowers/bougainvillea_00002.jpg\n"
     ]
    },
    {
     "name": "stderr",
     "output_type": "stream",
     "text": [
      "C:\\tools\\Anaconda3\\lib\\site-packages\\sklearn\\cluster\\_kmeans.py:887: UserWarning: MiniBatchKMeans is known to have a memory leak on Windows with MKL, when there are less chunks than available threads. You can prevent it by setting batch_size >= 3072 or by setting the environment variable OMP_NUM_THREADS=1\n",
      "  warnings.warn(\n"
     ]
    },
    {
     "name": "stdout",
     "output_type": "stream",
     "text": [
      "images/flowers/bougainvillea_00003.jpg\n"
     ]
    },
    {
     "name": "stderr",
     "output_type": "stream",
     "text": [
      "C:\\tools\\Anaconda3\\lib\\site-packages\\sklearn\\cluster\\_kmeans.py:887: UserWarning: MiniBatchKMeans is known to have a memory leak on Windows with MKL, when there are less chunks than available threads. You can prevent it by setting batch_size >= 3072 or by setting the environment variable OMP_NUM_THREADS=1\n",
      "  warnings.warn(\n"
     ]
    },
    {
     "name": "stdout",
     "output_type": "stream",
     "text": [
      "images/flowers/bougainvillea_00004.jpg\n"
     ]
    },
    {
     "name": "stderr",
     "output_type": "stream",
     "text": [
      "C:\\tools\\Anaconda3\\lib\\site-packages\\sklearn\\cluster\\_kmeans.py:887: UserWarning: MiniBatchKMeans is known to have a memory leak on Windows with MKL, when there are less chunks than available threads. You can prevent it by setting batch_size >= 3072 or by setting the environment variable OMP_NUM_THREADS=1\n",
      "  warnings.warn(\n"
     ]
    },
    {
     "name": "stdout",
     "output_type": "stream",
     "text": [
      "images/flowers/bougainvillea_00005.jpg\n"
     ]
    },
    {
     "name": "stderr",
     "output_type": "stream",
     "text": [
      "C:\\tools\\Anaconda3\\lib\\site-packages\\sklearn\\cluster\\_kmeans.py:887: UserWarning: MiniBatchKMeans is known to have a memory leak on Windows with MKL, when there are less chunks than available threads. You can prevent it by setting batch_size >= 3072 or by setting the environment variable OMP_NUM_THREADS=1\n",
      "  warnings.warn(\n"
     ]
    },
    {
     "name": "stdout",
     "output_type": "stream",
     "text": [
      "images/flowers/bougainvillea_00006.jpg\n"
     ]
    },
    {
     "name": "stderr",
     "output_type": "stream",
     "text": [
      "C:\\tools\\Anaconda3\\lib\\site-packages\\sklearn\\cluster\\_kmeans.py:887: UserWarning: MiniBatchKMeans is known to have a memory leak on Windows with MKL, when there are less chunks than available threads. You can prevent it by setting batch_size >= 3072 or by setting the environment variable OMP_NUM_THREADS=1\n",
      "  warnings.warn(\n"
     ]
    },
    {
     "name": "stdout",
     "output_type": "stream",
     "text": [
      "images/flowers/bougainvillea_00007.jpg\n"
     ]
    },
    {
     "name": "stderr",
     "output_type": "stream",
     "text": [
      "C:\\tools\\Anaconda3\\lib\\site-packages\\sklearn\\cluster\\_kmeans.py:887: UserWarning: MiniBatchKMeans is known to have a memory leak on Windows with MKL, when there are less chunks than available threads. You can prevent it by setting batch_size >= 3072 or by setting the environment variable OMP_NUM_THREADS=1\n",
      "  warnings.warn(\n"
     ]
    },
    {
     "name": "stdout",
     "output_type": "stream",
     "text": [
      "images/flowers/bougainvillea_00008.jpg\n"
     ]
    },
    {
     "name": "stderr",
     "output_type": "stream",
     "text": [
      "C:\\tools\\Anaconda3\\lib\\site-packages\\sklearn\\cluster\\_kmeans.py:887: UserWarning: MiniBatchKMeans is known to have a memory leak on Windows with MKL, when there are less chunks than available threads. You can prevent it by setting batch_size >= 3072 or by setting the environment variable OMP_NUM_THREADS=1\n",
      "  warnings.warn(\n"
     ]
    },
    {
     "name": "stdout",
     "output_type": "stream",
     "text": [
      "images/flowers/bougainvillea_00009.jpg\n"
     ]
    },
    {
     "name": "stderr",
     "output_type": "stream",
     "text": [
      "C:\\tools\\Anaconda3\\lib\\site-packages\\sklearn\\cluster\\_kmeans.py:887: UserWarning: MiniBatchKMeans is known to have a memory leak on Windows with MKL, when there are less chunks than available threads. You can prevent it by setting batch_size >= 3072 or by setting the environment variable OMP_NUM_THREADS=1\n",
      "  warnings.warn(\n"
     ]
    },
    {
     "name": "stdout",
     "output_type": "stream",
     "text": [
      "images/flowers/bougainvillea_00010.jpg\n"
     ]
    },
    {
     "name": "stderr",
     "output_type": "stream",
     "text": [
      "C:\\tools\\Anaconda3\\lib\\site-packages\\sklearn\\cluster\\_kmeans.py:887: UserWarning: MiniBatchKMeans is known to have a memory leak on Windows with MKL, when there are less chunks than available threads. You can prevent it by setting batch_size >= 3072 or by setting the environment variable OMP_NUM_THREADS=1\n",
      "  warnings.warn(\n"
     ]
    },
    {
     "name": "stdout",
     "output_type": "stream",
     "text": [
      "images/flowers/bougainvillea_00012.jpg\n"
     ]
    },
    {
     "name": "stderr",
     "output_type": "stream",
     "text": [
      "C:\\tools\\Anaconda3\\lib\\site-packages\\sklearn\\cluster\\_kmeans.py:887: UserWarning: MiniBatchKMeans is known to have a memory leak on Windows with MKL, when there are less chunks than available threads. You can prevent it by setting batch_size >= 3072 or by setting the environment variable OMP_NUM_THREADS=1\n",
      "  warnings.warn(\n"
     ]
    },
    {
     "name": "stdout",
     "output_type": "stream",
     "text": [
      "images/flowers/bougainvillea_00013.jpg\n"
     ]
    },
    {
     "name": "stderr",
     "output_type": "stream",
     "text": [
      "C:\\tools\\Anaconda3\\lib\\site-packages\\sklearn\\cluster\\_kmeans.py:887: UserWarning: MiniBatchKMeans is known to have a memory leak on Windows with MKL, when there are less chunks than available threads. You can prevent it by setting batch_size >= 3072 or by setting the environment variable OMP_NUM_THREADS=1\n",
      "  warnings.warn(\n"
     ]
    },
    {
     "name": "stdout",
     "output_type": "stream",
     "text": [
      "images/flowers/bougainvillea_00014.jpg\n"
     ]
    },
    {
     "name": "stderr",
     "output_type": "stream",
     "text": [
      "C:\\tools\\Anaconda3\\lib\\site-packages\\sklearn\\cluster\\_kmeans.py:887: UserWarning: MiniBatchKMeans is known to have a memory leak on Windows with MKL, when there are less chunks than available threads. You can prevent it by setting batch_size >= 3072 or by setting the environment variable OMP_NUM_THREADS=1\n",
      "  warnings.warn(\n"
     ]
    },
    {
     "name": "stdout",
     "output_type": "stream",
     "text": [
      "images/flowers/bougainvillea_00015.jpg\n"
     ]
    },
    {
     "name": "stderr",
     "output_type": "stream",
     "text": [
      "C:\\tools\\Anaconda3\\lib\\site-packages\\sklearn\\cluster\\_kmeans.py:887: UserWarning: MiniBatchKMeans is known to have a memory leak on Windows with MKL, when there are less chunks than available threads. You can prevent it by setting batch_size >= 3072 or by setting the environment variable OMP_NUM_THREADS=1\n",
      "  warnings.warn(\n"
     ]
    },
    {
     "name": "stdout",
     "output_type": "stream",
     "text": [
      "images/flowers/bougainvillea_00016.jpg\n"
     ]
    },
    {
     "name": "stderr",
     "output_type": "stream",
     "text": [
      "C:\\tools\\Anaconda3\\lib\\site-packages\\sklearn\\cluster\\_kmeans.py:887: UserWarning: MiniBatchKMeans is known to have a memory leak on Windows with MKL, when there are less chunks than available threads. You can prevent it by setting batch_size >= 3072 or by setting the environment variable OMP_NUM_THREADS=1\n",
      "  warnings.warn(\n"
     ]
    },
    {
     "name": "stdout",
     "output_type": "stream",
     "text": [
      "images/flowers/bougainvillea_00017.jpg\n"
     ]
    },
    {
     "name": "stderr",
     "output_type": "stream",
     "text": [
      "C:\\tools\\Anaconda3\\lib\\site-packages\\sklearn\\cluster\\_kmeans.py:887: UserWarning: MiniBatchKMeans is known to have a memory leak on Windows with MKL, when there are less chunks than available threads. You can prevent it by setting batch_size >= 3072 or by setting the environment variable OMP_NUM_THREADS=1\n",
      "  warnings.warn(\n"
     ]
    },
    {
     "name": "stdout",
     "output_type": "stream",
     "text": [
      "images/flowers/bougainvillea_00018.jpg\n"
     ]
    },
    {
     "name": "stderr",
     "output_type": "stream",
     "text": [
      "C:\\tools\\Anaconda3\\lib\\site-packages\\sklearn\\cluster\\_kmeans.py:887: UserWarning: MiniBatchKMeans is known to have a memory leak on Windows with MKL, when there are less chunks than available threads. You can prevent it by setting batch_size >= 3072 or by setting the environment variable OMP_NUM_THREADS=1\n",
      "  warnings.warn(\n"
     ]
    },
    {
     "name": "stdout",
     "output_type": "stream",
     "text": [
      "images/flowers/bougainvillea_00019.jpg\n"
     ]
    },
    {
     "name": "stderr",
     "output_type": "stream",
     "text": [
      "C:\\tools\\Anaconda3\\lib\\site-packages\\sklearn\\cluster\\_kmeans.py:887: UserWarning: MiniBatchKMeans is known to have a memory leak on Windows with MKL, when there are less chunks than available threads. You can prevent it by setting batch_size >= 3072 or by setting the environment variable OMP_NUM_THREADS=1\n",
      "  warnings.warn(\n"
     ]
    },
    {
     "name": "stdout",
     "output_type": "stream",
     "text": [
      "images/flowers/bougainvillea_00020.jpg\n"
     ]
    },
    {
     "name": "stderr",
     "output_type": "stream",
     "text": [
      "C:\\tools\\Anaconda3\\lib\\site-packages\\sklearn\\cluster\\_kmeans.py:887: UserWarning: MiniBatchKMeans is known to have a memory leak on Windows with MKL, when there are less chunks than available threads. You can prevent it by setting batch_size >= 3072 or by setting the environment variable OMP_NUM_THREADS=1\n",
      "  warnings.warn(\n"
     ]
    },
    {
     "name": "stdout",
     "output_type": "stream",
     "text": [
      "images/flowers/bougainvillea_00021.jpg\n"
     ]
    },
    {
     "name": "stderr",
     "output_type": "stream",
     "text": [
      "C:\\tools\\Anaconda3\\lib\\site-packages\\sklearn\\cluster\\_kmeans.py:887: UserWarning: MiniBatchKMeans is known to have a memory leak on Windows with MKL, when there are less chunks than available threads. You can prevent it by setting batch_size >= 3072 or by setting the environment variable OMP_NUM_THREADS=1\n",
      "  warnings.warn(\n"
     ]
    },
    {
     "name": "stdout",
     "output_type": "stream",
     "text": [
      "images/flowers/bougainvillea_00022.jpg\n"
     ]
    },
    {
     "name": "stderr",
     "output_type": "stream",
     "text": [
      "C:\\tools\\Anaconda3\\lib\\site-packages\\sklearn\\cluster\\_kmeans.py:887: UserWarning: MiniBatchKMeans is known to have a memory leak on Windows with MKL, when there are less chunks than available threads. You can prevent it by setting batch_size >= 3072 or by setting the environment variable OMP_NUM_THREADS=1\n",
      "  warnings.warn(\n"
     ]
    },
    {
     "name": "stdout",
     "output_type": "stream",
     "text": [
      "images/flowers/bougainvillea_00023.jpg\n"
     ]
    },
    {
     "name": "stderr",
     "output_type": "stream",
     "text": [
      "C:\\tools\\Anaconda3\\lib\\site-packages\\sklearn\\cluster\\_kmeans.py:887: UserWarning: MiniBatchKMeans is known to have a memory leak on Windows with MKL, when there are less chunks than available threads. You can prevent it by setting batch_size >= 3072 or by setting the environment variable OMP_NUM_THREADS=1\n",
      "  warnings.warn(\n"
     ]
    },
    {
     "name": "stdout",
     "output_type": "stream",
     "text": [
      "images/flowers/bougainvillea_00024.jpg\n"
     ]
    },
    {
     "name": "stderr",
     "output_type": "stream",
     "text": [
      "C:\\tools\\Anaconda3\\lib\\site-packages\\sklearn\\cluster\\_kmeans.py:887: UserWarning: MiniBatchKMeans is known to have a memory leak on Windows with MKL, when there are less chunks than available threads. You can prevent it by setting batch_size >= 3072 or by setting the environment variable OMP_NUM_THREADS=1\n",
      "  warnings.warn(\n"
     ]
    },
    {
     "name": "stdout",
     "output_type": "stream",
     "text": [
      "images/flowers/bougainvillea_00025.jpg\n"
     ]
    },
    {
     "name": "stderr",
     "output_type": "stream",
     "text": [
      "C:\\tools\\Anaconda3\\lib\\site-packages\\sklearn\\cluster\\_kmeans.py:887: UserWarning: MiniBatchKMeans is known to have a memory leak on Windows with MKL, when there are less chunks than available threads. You can prevent it by setting batch_size >= 3072 or by setting the environment variable OMP_NUM_THREADS=1\n",
      "  warnings.warn(\n"
     ]
    },
    {
     "name": "stdout",
     "output_type": "stream",
     "text": [
      "images/flowers/bougainvillea_00026.jpg\n"
     ]
    },
    {
     "name": "stderr",
     "output_type": "stream",
     "text": [
      "C:\\tools\\Anaconda3\\lib\\site-packages\\sklearn\\cluster\\_kmeans.py:887: UserWarning: MiniBatchKMeans is known to have a memory leak on Windows with MKL, when there are less chunks than available threads. You can prevent it by setting batch_size >= 3072 or by setting the environment variable OMP_NUM_THREADS=1\n",
      "  warnings.warn(\n"
     ]
    },
    {
     "name": "stdout",
     "output_type": "stream",
     "text": [
      "images/flowers/bougainvillea_00027.jpg\n"
     ]
    },
    {
     "name": "stderr",
     "output_type": "stream",
     "text": [
      "C:\\tools\\Anaconda3\\lib\\site-packages\\sklearn\\cluster\\_kmeans.py:887: UserWarning: MiniBatchKMeans is known to have a memory leak on Windows with MKL, when there are less chunks than available threads. You can prevent it by setting batch_size >= 3072 or by setting the environment variable OMP_NUM_THREADS=1\n",
      "  warnings.warn(\n"
     ]
    },
    {
     "name": "stdout",
     "output_type": "stream",
     "text": [
      "images/flowers/bougainvillea_00028.jpg\n"
     ]
    },
    {
     "name": "stderr",
     "output_type": "stream",
     "text": [
      "C:\\tools\\Anaconda3\\lib\\site-packages\\sklearn\\cluster\\_kmeans.py:887: UserWarning: MiniBatchKMeans is known to have a memory leak on Windows with MKL, when there are less chunks than available threads. You can prevent it by setting batch_size >= 3072 or by setting the environment variable OMP_NUM_THREADS=1\n",
      "  warnings.warn(\n"
     ]
    },
    {
     "name": "stdout",
     "output_type": "stream",
     "text": [
      "images/flowers/bougainvillea_00029.jpg\n"
     ]
    },
    {
     "name": "stderr",
     "output_type": "stream",
     "text": [
      "C:\\tools\\Anaconda3\\lib\\site-packages\\sklearn\\cluster\\_kmeans.py:887: UserWarning: MiniBatchKMeans is known to have a memory leak on Windows with MKL, when there are less chunks than available threads. You can prevent it by setting batch_size >= 3072 or by setting the environment variable OMP_NUM_THREADS=1\n",
      "  warnings.warn(\n"
     ]
    },
    {
     "name": "stdout",
     "output_type": "stream",
     "text": [
      "images/flowers/bougainvillea_00030.jpg\n"
     ]
    },
    {
     "name": "stderr",
     "output_type": "stream",
     "text": [
      "C:\\tools\\Anaconda3\\lib\\site-packages\\sklearn\\cluster\\_kmeans.py:887: UserWarning: MiniBatchKMeans is known to have a memory leak on Windows with MKL, when there are less chunks than available threads. You can prevent it by setting batch_size >= 3072 or by setting the environment variable OMP_NUM_THREADS=1\n",
      "  warnings.warn(\n"
     ]
    },
    {
     "name": "stdout",
     "output_type": "stream",
     "text": [
      "images/flowers/bougainvillea_00031.jpg\n"
     ]
    },
    {
     "name": "stderr",
     "output_type": "stream",
     "text": [
      "C:\\tools\\Anaconda3\\lib\\site-packages\\sklearn\\cluster\\_kmeans.py:887: UserWarning: MiniBatchKMeans is known to have a memory leak on Windows with MKL, when there are less chunks than available threads. You can prevent it by setting batch_size >= 3072 or by setting the environment variable OMP_NUM_THREADS=1\n",
      "  warnings.warn(\n"
     ]
    },
    {
     "name": "stdout",
     "output_type": "stream",
     "text": [
      "images/flowers/bougainvillea_00032.jpg\n"
     ]
    },
    {
     "name": "stderr",
     "output_type": "stream",
     "text": [
      "C:\\tools\\Anaconda3\\lib\\site-packages\\sklearn\\cluster\\_kmeans.py:887: UserWarning: MiniBatchKMeans is known to have a memory leak on Windows with MKL, when there are less chunks than available threads. You can prevent it by setting batch_size >= 3072 or by setting the environment variable OMP_NUM_THREADS=1\n",
      "  warnings.warn(\n"
     ]
    },
    {
     "data": {
      "image/png": "[encoded data removed]",
      "text/plain": [
       "<Figure size 432x288 with 1 Axes>"
      ]
     },
     "metadata": {
      "needs_background": "light"
     },
     "output_type": "display_data"
    }
   ],
   "source": [
    "filename = 'data.json'\n",
    "with open(filename, 'r') as f:\n",
    "    data = json.load(f)\n",
    "\n",
    "for index in data :\n",
    "    path = \"images/flowers/\" + data[index]['name'] + \"_\" + data[index]['id_picture'] + \".jpg\"\n",
    "    \n",
    "    print(path)\n",
    "    #MiniBatchKmeans\n",
    "\n",
    "    imgfile = Image.open(path)\n",
    "    n_clusters = 4\n",
    "    numarray = numpy.array(imgfile.getdata(), numpy.uint8)\n",
    "    clusters = MiniBatchKMeans(n_clusters)\n",
    "    clusters.fit(numarray)\n",
    "    npbins = numpy.arange(0, n_clusters+1)\n",
    "    histogram = numpy.histogram(clusters.labels_, bins=npbins)\n",
    "    labels = numpy.unique(clusters.labels_)\n",
    "    index1 = {}\n",
    "    for i,element in enumerate(histogram[0]):\n",
    "        index1[element] = i\n",
    "    #print(index1)\n",
    "    histoSort = sorted(histogram[0], reverse=True)\n",
    "    #print(histoSort)\n",
    "    index2 = {}\n",
    "    for i,element in enumerate(histoSort):\n",
    "        index2[i] = element\n",
    "    #print(index2)\n",
    "    barlist = plot.bar(labels, histoSort)\n",
    "    colors = []\n",
    "    colorsDec = []\n",
    "    for k in range(n_clusters):\n",
    "        i = index1[index2[k]]\n",
    "        colors.append('#%02x%02x%02x' % (\n",
    "        math.ceil(clusters.cluster_centers_[i][0]), #RGB normalement 0:R 1:G 2:B\n",
    "            math.ceil(clusters.cluster_centers_[i][1]),\n",
    "        math.ceil(clusters.cluster_centers_[i][2])))\n",
    "\n",
    "        colorsDec.append([math.ceil(clusters.cluster_centers_[i][0]), #RGB normalement 0:R 1:G 2:B\n",
    "            math.ceil(clusters.cluster_centers_[i][1]),\n",
    "        math.ceil(clusters.cluster_centers_[i][2])])\n",
    "\n",
    "        barlist[k].set_color('#%02x%02x%02x' % (\n",
    "        math.ceil(clusters.cluster_centers_[i][0]), \n",
    "            math.ceil(clusters.cluster_centers_[i][1]),\n",
    "        math.ceil(clusters.cluster_centers_[i][2])))\n",
    "        \n",
    "#comparaison des couleurs :        \n",
    "\n",
    "    dataCouleurs = {}\n",
    "    for i in range(0,4) : \n",
    "        R = colorsDec[i][0]\n",
    "        G = colorsDec[i][1]\n",
    "        B = colorsDec[i][2]\n",
    "\n",
    "\n",
    "        #ListeCouleurs = [[255,255,255],[0,0,255],[0,0,125],[0,255,0],[255,0,0],[0,0,0]]\n",
    "        normeMin = 255\n",
    "        couleursRef = []\n",
    "        for couleurs in ListeCouleurs :\n",
    "            norme = (abs(couleurs[1][0]-R) + abs(couleurs[1][1]-G) + abs(couleurs[1][2]-B))/3\n",
    "            if norme <= normeMin : \n",
    "                couleursRef = couleurs\n",
    "                normeMin = norme\n",
    "        data[index]['couleur ' +  str(i)] = couleursRef\n",
    "\n",
    "\n",
    "os.remove(filename)\n",
    "with open(filename, 'w') as f:\n",
    "    json.dump(data, f, indent=4)\n",
    "    \n",
    "        \n",
    "\n",
    "\n",
    "\n",
    "\n"
   ]
  },
  {
   "cell_type": "code",
   "execution_count": null,
   "id": "99690197",
   "metadata": {},
   "outputs": [],
   "source": []
  }
 ],
 "metadata": {
  "kernelspec": {
   "display_name": "Python 3 (ipykernel)",
   "language": "python",
   "name": "python3"
  },
  "language_info": {
   "codemirror_mode": {
    "name": "ipython",
    "version": 3
   },
   "file_extension": ".py",
   "mimetype": "text/x-python",
   "name": "python",
   "nbconvert_exporter": "python",
   "pygments_lexer": "ipython3",
   "version": "3.9.7"
  }
 },
 "nbformat": 4,
 "nbformat_minor": 5
}
