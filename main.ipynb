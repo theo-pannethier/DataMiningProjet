{
 "cells": [
  {
   "cell_type": "markdown",
   "id": "7fda1921-2fa4-41f0-b23b-d8f45265f8dc",
   "metadata": {},
   "source": [
    "# Projet de DataMining :  \n",
    "\n",
    "Dans ce projet nous allons recommander des images en fonctions d'images déjà \"liké\".\n",
    "Pour cela nous avons commencé par traiter une base de 733 images en recupérant le maximun de données. On recupére notament les données Exif, la taille de l'image, son orientation, ect ...  \n",
    "La base de données d'images vient du lien suivant:\n",
    "https://www.kaggle.com/aksha05/flower-image-dataset\n",
    "## Requirements : "
   ]
  },
  {
   "cell_type": "code",
   "execution_count": 7,
   "id": "480f5202-5367-4a3d-a3b6-d640fb51efae",
   "metadata": {},
   "outputs": [],
   "source": [
    "from PIL import Image"
   ]
  },
  {
   "cell_type": "markdown",
   "id": "4e6c5227-4af1-432b-afc3-b873b7fdb8a9",
   "metadata": {},
   "source": [
    "## Récupération des données:\n",
    "t'es chiant mon reuf"
   ]
  },
  {
   "cell_type": "code",
   "execution_count": null,
   "id": "48284326-e5c1-4722-a3fb-36d4d486c01b",
   "metadata": {},
   "outputs": [],
   "source": []
  }
 ],
 "metadata": {
  "kernelspec": {
   "display_name": "Python 3 (ipykernel)",
   "language": "python",
   "name": "python3"
  },
  "language_info": {
   "codemirror_mode": {
    "name": "ipython",
    "version": 3
   },
   "file_extension": ".py",
   "mimetype": "text/x-python",
   "name": "python",
   "nbconvert_exporter": "python",
   "pygments_lexer": "ipython3",
   "version": "3.8.9"
  }
 },
 "nbformat": 4,
 "nbformat_minor": 5
}
