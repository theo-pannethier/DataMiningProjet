{
 "cells": [
  {
   "cell_type": "markdown",
   "id": "7fda1921-2fa4-41f0-b23b-d8f45265f8dc",
   "metadata": {},
   "source": [
    "# Projet de DataMining :  \n",
    "\n",
    "Dans ce projet nous allons recommander des images en fonctions d'images déjà \"liké\".\n",
    "Pour cela nous avons commencé par traiter une base de 733 images en recupérant le maximun de données. On recupére notament les données Exif, la taille de l'image, son orientation, ect ...  \n",
    "La base de données d'images vient du lien suivant:\n",
    "https://www.kaggle.com/aksha05/flower-image-dataset\n",
    "## Requirements : "
   ]
  },
  {
   "cell_type": "code",
   "execution_count": null,
   "id": "480f5202-5367-4a3d-a3b6-d640fb51efae",
   "metadata": {},
   "outputs": [],
   "source": [
    "from PIL import Image\n",
    "from pandas import json_normalize\n",
    "import pandas as pd\n",
    "import json\n",
    "import os\n",
    "import numpy\n",
    "import math\n",
    "import matplotlib.pyplot as plot\n",
    "import time\n",
    "from sklearn.cluster import MiniBatchKMeans\n",
    "from sklearn.cluster import KMeans"
   ]
  },
  {
   "cell_type": "markdown",
   "id": "4e6c5227-4af1-432b-afc3-b873b7fdb8a9",
   "metadata": {},
   "source": [
    "## Récupération des données et organisation de ces données dans un fichier json:"
   ]
  },
  {
   "cell_type": "raw",
   "id": "7cb57b86",
   "metadata": {},
   "source": [
    "path = \"images/flowers\"\n",
    "dataJson = open('data.json', 'w')\n",
    "dataTot = []\n",
    "for file in os.listdir(path): #On peut lire l'ensemble des fichiers présents dans le dossier donné par path\n",
    "    data = {}\n",
    "    if file[0] != \".\": #On exclue les fichiers \"cachés\"\n",
    "        new_path = path + \"/\" + file\n",
    "        image = Image.open(new_path) #Récupération de l'image avec le module Image de PIL\n",
    "        tupleSize = image.size\n",
    "        data[\"id_picture\"] = file[-9:-4]\n",
    "        data[\"name\"] = file[:-10]\n",
    "        data[\"size\"] = tupleSize\n",
    "        data[\"format\"] = image.format\n",
    "        data[\"couleur 1\"] = ''\n",
    "        data[\"couleur 2\"] = ''\n",
    "        data[\"couleur 3\"] = ''\n",
    "        data[\"couleur 4\"] = ''\n",
    "        if tupleSize[0] > tupleSize[1] : \n",
    "            data[\"orientation\"] = \"paysage\"\n",
    "        elif tupleSize[0] < tupleSize[1] :\n",
    "            data[\"orientation\"] = \"portrait\"\n",
    "        else:\n",
    "            data[\"orientation\"] = \"carre\"\n",
    "        dataTot.append(data)\n",
    "\n",
    "json.dump(dataTot,dataJson, indent = 4)\n",
    "dataJson.close()\n",
    "dataTot_frame = json_normalize(dataTot)\n",
    "print(dataTot_frame)\n",
    "\n"
   ]
  },
  {
   "cell_type": "markdown",
   "id": "1414d65a-03ad-40e5-99cd-049df06c8011",
   "metadata": {},
   "source": [
    "## Détection des couleurs prédominantes"
   ]
  },
  {
   "cell_type": "code",
   "execution_count": null,
   "id": "167fa0cc-a34e-4ee8-8eba-c196a09d09ee",
   "metadata": {},
   "outputs": [],
   "source": [
    "start_time = time.time()\n",
    "imgfile = Image.open(\"images/flowers/daisies_00046.jpg\")\n",
    "n_clusters = 4 #int(input(\"Nombre de clusters pour l'algorithme des K-Means: \"))\n",
    "numarray = numpy.array(imgfile.getdata(), numpy.uint8)\n",
    "clusters = KMeans(n_clusters)\n",
    "clusters.fit(numarray)\n",
    "npbins = numpy.arange(0, n_clusters+1)\n",
    "histogram = numpy.histogram(clusters.labels_, bins=npbins)\n",
    "labels = numpy.unique(clusters.labels_)\n",
    "index1 = {}\n",
    "for i,element in enumerate(histogram[0]):\n",
    "    index1[element] = i\n",
    "#print(index1)\n",
    "histoSort = sorted(histogram[0], reverse=True)\n",
    "#print(histoSort)\n",
    "index2 = {}\n",
    "for i,element in enumerate(histoSort):\n",
    "    index2[i] = element\n",
    "#print(index2)\n",
    "barlist = plot.bar(labels, histoSort)\n",
    "colors = []\n",
    "for k in range(n_clusters):\n",
    "    i = index1[index2[k]]\n",
    "    colors.append('#%02x%02x%02x' % (\n",
    "    math.ceil(clusters.cluster_centers_[i][0]), \n",
    "        math.ceil(clusters.cluster_centers_[i][1]),\n",
    "    math.ceil(clusters.cluster_centers_[i][2])))\n",
    "    barlist[k].set_color('#%02x%02x%02x' % (\n",
    "    math.ceil(clusters.cluster_centers_[i][0]), \n",
    "        math.ceil(clusters.cluster_centers_[i][1]),\n",
    "    math.ceil(clusters.cluster_centers_[i][2])))\n",
    "plot.show()\n",
    "end_time = time.time()\n",
    "total_time = end_time - start_time\n",
    "print(total_time)"
   ]
  },
  {
   "cell_type": "code",
   "execution_count": null,
   "id": "60d06450-c399-40d3-8efc-84e48d0e8899",
   "metadata": {},
   "outputs": [],
   "source": [
    "start_time = time.time()\n",
    "imgfile = Image.open(\"images/flowers/daisies_00046.jpg\")\n",
    "n_clusters = 4\n",
    "numarray = numpy.array(imgfile.getdata(), numpy.uint8)\n",
    "clusters = MiniBatchKMeans(n_clusters)\n",
    "clusters.fit(numarray)\n",
    "npbins = numpy.arange(0, n_clusters+1)\n",
    "histogram = numpy.histogram(clusters.labels_, bins=npbins)\n",
    "labels = numpy.unique(clusters.labels_)\n",
    "index1 = {}\n",
    "for i,element in enumerate(histogram[0]):\n",
    "    index1[element] = i\n",
    "#print(index1)\n",
    "histoSort = sorted(histogram[0], reverse=True)\n",
    "#print(histoSort)\n",
    "index2 = {}\n",
    "for i,element in enumerate(histoSort):\n",
    "    index2[i] = element\n",
    "#print(index2)\n",
    "barlist = plot.bar(labels, histoSort)\n",
    "colors = []\n",
    "colorsDec = []\n",
    "for k in range(n_clusters):\n",
    "    i = index1[index2[k]]\n",
    "    colors.append('#%02x%02x%02x' % (\n",
    "    math.ceil(clusters.cluster_centers_[i][0]), #RGB normalement 0:R 1:G 2:B\n",
    "        math.ceil(clusters.cluster_centers_[i][1]),\n",
    "    math.ceil(clusters.cluster_centers_[i][2])))\n",
    "    \n",
    "    colorsDec.append([math.ceil(clusters.cluster_centers_[i][0]), #RGB normalement 0:R 1:G 2:B\n",
    "        math.ceil(clusters.cluster_centers_[i][1]),\n",
    "    math.ceil(clusters.cluster_centers_[i][2])])\n",
    "    \n",
    "    barlist[k].set_color('#%02x%02x%02x' % (\n",
    "    math.ceil(clusters.cluster_centers_[i][0]), \n",
    "        math.ceil(clusters.cluster_centers_[i][1]),\n",
    "    math.ceil(clusters.cluster_centers_[i][2])))\n",
    "\n",
    "plot.show()\n",
    "end_time = time.time()\n",
    "total_time = end_time - start_time\n",
    "print(total_time)"
   ]
  },
  {
   "cell_type": "markdown",
   "id": "257ef649",
   "metadata": {},
   "source": [
    "On recupere un base de données comprenant un certain nombre de couleurs permetant d'avoir des réferences"
   ]
  },
  {
   "cell_type": "code",
   "execution_count": null,
   "id": "f441e211",
   "metadata": {},
   "outputs": [],
   "source": [
    "jsondataColor = json.load(open(\"colours_rgb_shades.json\"))\n",
    "array = []\n",
    "\n",
    "for data in jsondataColor:\n",
    "    array.append([data[\"Color Name\"], data[\"Credits\"], data[\"R;G;B Dec\"]])\n",
    "    \n",
    "dataframe = pd.DataFrame(array, columns=[\"Color Name\", \"Credits\", \"R;G;B Dec\"])\n",
    "dataframe = dataframe.astype(\n",
    "    dtype={\"Color Name\": \"<U200\", \"Credits\": \"<U200\", \"R;G;B Dec\": \"<U200\"}\n",
    ")\n",
    "selectColor = dataframe.loc[(dataframe[\"Credits\"] == \"N,V,X\")  | (dataframe[\"Credits\"] == \"N,X\")]\n",
    "print(selectColor)\n",
    "\n",
    "\n",
    "\n",
    "selectColor.to_json (r'dataSelectColor.json',orient = \"index\",indent = 4)\n",
    "\n"
   ]
  },
  {
   "cell_type": "markdown",
   "id": "02568388-2f8a-49e2-9a25-8529609c3b67",
   "metadata": {},
   "source": [
    "Ici on remarque bien que l'algorithme MiniBatchKMeans va beaucoup plus vite que l'algorithme des KMeans bien qu'il soit moins précis. Nous décidons de l'utiliser tout de même car nous ne pouvons pas nous permettre de prendre trop de temps pour traiter les 700 images !"
   ]
  },
  {
   "cell_type": "markdown",
   "id": "deef3a3b",
   "metadata": {},
   "source": [
    "Nous obtenons des coulours et maintenant nous essayons d'approximer les couleurs"
   ]
  },
  {
   "cell_type": "code",
   "execution_count": null,
   "id": "451eb05c",
   "metadata": {},
   "outputs": [],
   "source": [
    "with open('dataSelectColor.json') as mon_fichier:\n",
    "    data = json.load(mon_fichier)\n",
    "colorList = [] \n",
    "for key in data :\n",
    "    colorList.append([data[key]['Color Name'],data[key]['R;G;B Dec'].split(\";\")])\n",
    "#modilfication type RGB \n",
    "for element in colorList :\n",
    "    element[1][0] = int(element[1][0])\n",
    "    element[1][1] = int(element[1][1])\n",
    "    element[1][2] = int(element[1][2])\n",
    "\n",
    "ListeCouleurs = colorList"
   ]
  },
  {
   "cell_type": "markdown",
   "id": "b00b5937",
   "metadata": {},
   "source": [
    "On utilise les couleurs de réference dans notre detection de couleurs"
   ]
  },
  {
   "cell_type": "code",
   "execution_count": null,
   "id": "e816681c",
   "metadata": {},
   "outputs": [],
   "source": [
    "print(colorsDec)\n",
    "\n",
    "data = {}\n",
    "for i in range(0,4) : \n",
    "    R = colorsDec[i][0]\n",
    "    G = colorsDec[i][1]\n",
    "    B = colorsDec[i][2]\n",
    "\n",
    "\n",
    "    #ListeCouleurs = [[255,255,255],[0,0,255],[0,0,125],[0,255,0],[255,0,0],[0,0,0]]\n",
    "    normeMin = 255\n",
    "    couleursRef = []\n",
    "    for couleurs in ListeCouleurs :\n",
    "        norme = (abs(couleurs[1][0]-R) + abs(couleurs[1][1]-G) + abs(couleurs[1][2]-B))/3\n",
    "        if norme <= normeMin : \n",
    "            couleursRef = couleurs\n",
    "            normeMin = norme\n",
    "    data[\"couleur \" + str(i)] = couleursRef\n",
    "print(data)\n"
   ]
  },
  {
   "cell_type": "markdown",
   "id": "3c0a27b6",
   "metadata": {},
   "source": [
    "On modifie le fichier JSON pour les couleurs "
   ]
  },
  {
   "cell_type": "raw",
   "id": "0257f5b0",
   "metadata": {},
   "source": [
    "filename = 'data.json'\n",
    "with open(filename, 'r') as f:\n",
    "    data = json.load(f)\n",
    "    data[0]['couleur 1'] = 12\n",
    "\n",
    "os.remove(filename)\n",
    "with open(filename, 'w') as f:\n",
    "    json.dump(data, f, indent=4)\n",
    "\n"
   ]
  },
  {
   "cell_type": "markdown",
   "id": "0320a64d",
   "metadata": {},
   "source": [
    "On passe maintenant à l'application de l'exemple au projet"
   ]
  },
  {
   "cell_type": "raw",
   "id": "4d899951",
   "metadata": {},
   "source": [
    "filename = 'data.json'\n",
    "with open(filename, 'r') as f:\n",
    "    data = json.load(f)\n",
    "\n",
    "print(len(data))\n",
    "for index in range (len(data )):\n",
    "    path = \"images/flowers/\" + data[index]['name'] + \"_\" + data[index]['id_picture'] + \".jpg\"\n",
    "    \n",
    "    print(path)\n",
    "    #MiniBatchKmeans\n",
    "\n",
    "    imgfile = Image.open(path)\n",
    "    n_clusters = 4\n",
    "    numarray = numpy.array(imgfile.getdata(), numpy.uint8)\n",
    "    clusters = MiniBatchKMeans(n_clusters)\n",
    "    clusters.fit(numarray)\n",
    "    npbins = numpy.arange(0, n_clusters+1)\n",
    "    histogram = numpy.histogram(clusters.labels_, bins=npbins)\n",
    "    labels = numpy.unique(clusters.labels_)\n",
    "    index1 = {}\n",
    "    for i,element in enumerate(histogram[0]):\n",
    "        index1[element] = i\n",
    "    #print(index1)\n",
    "    histoSort = sorted(histogram[0], reverse=True)\n",
    "    #print(histoSort)\n",
    "    index2 = {}\n",
    "    for i,element in enumerate(histoSort):\n",
    "        index2[i] = element\n",
    "    #print(index2)\n",
    "    barlist = plot.bar(labels, histoSort)\n",
    "    colors = []\n",
    "    colorsDec = []\n",
    "    for k in range(n_clusters):\n",
    "        i = index1[index2[k]]\n",
    "        colors.append('#%02x%02x%02x' % (\n",
    "        math.ceil(clusters.cluster_centers_[i][0]), #RGB normalement 0:R 1:G 2:B\n",
    "            math.ceil(clusters.cluster_centers_[i][1]),\n",
    "        math.ceil(clusters.cluster_centers_[i][2])))\n",
    "\n",
    "        colorsDec.append([math.ceil(clusters.cluster_centers_[i][0]), #RGB normalement 0:R 1:G 2:B\n",
    "            math.ceil(clusters.cluster_centers_[i][1]),\n",
    "        math.ceil(clusters.cluster_centers_[i][2])])\n",
    "\n",
    "        barlist[k].set_color('#%02x%02x%02x' % (\n",
    "        math.ceil(clusters.cluster_centers_[i][0]), \n",
    "            math.ceil(clusters.cluster_centers_[i][1]),\n",
    "        math.ceil(clusters.cluster_centers_[i][2])))\n",
    "        \n",
    "#comparaison des couleurs :        \n",
    "\n",
    "    dataCouleurs = {}\n",
    "    for i in range(0,4) : \n",
    "        R = colorsDec[i][0]\n",
    "        G = colorsDec[i][1]\n",
    "        B = colorsDec[i][2]\n",
    "\n",
    "\n",
    "        #ListeCouleurs = [[255,255,255],[0,0,255],[0,0,125],[0,255,0],[255,0,0],[0,0,0]]\n",
    "        normeMin = 255\n",
    "        couleursRef = []\n",
    "        for couleurs in ListeCouleurs :\n",
    "            norme = (abs(couleurs[1][0]-R) + abs(couleurs[1][1]-G) + abs(couleurs[1][2]-B))/3\n",
    "            if norme <= normeMin : \n",
    "                couleursRef = couleurs\n",
    "                normeMin = norme\n",
    "        data[index]['couleur ' +  str(i)] = couleursRef\n",
    "\n",
    "\n",
    "os.remove(filename)\n",
    "with open(filename, 'w') as f:\n",
    "    json.dump(data, f, indent=4)\n",
    "    \n",
    "        \n",
    "\n",
    "\n",
    "\n",
    "\n"
   ]
  },
  {
   "cell_type": "code",
   "execution_count": null,
   "id": "99690197",
   "metadata": {},
   "outputs": [],
   "source": []
  }
 ],
 "metadata": {
  "kernelspec": {
   "display_name": "Python 3 (ipykernel)",
   "language": "python",
   "name": "python3"
  },
  "language_info": {
   "codemirror_mode": {
    "name": "ipython",
    "version": 3
   },
   "file_extension": ".py",
   "mimetype": "text/x-python",
   "name": "python",
   "nbconvert_exporter": "python",
   "pygments_lexer": "ipython3",
   "version": "3.9.7"
  }
 },
 "nbformat": 4,
 "nbformat_minor": 5
}
