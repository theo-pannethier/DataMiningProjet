{
 "cells": [
  {
   "cell_type": "markdown",
   "id": "7fda1921-2fa4-41f0-b23b-d8f45265f8dc",
   "metadata": {},
   "source": [
    "# Projet de DataMining :  \n",
    "\n",
    "Dans ce projet nous allons recommander des images en fonctions d'images déjà \"liké\".\n",
    "Pour cela nous avons commencé par traiter une base de 733 images en recupérant le maximun de données. On recupére notament les données Exif, la taille de l'image, son orientation, ect ...  \n",
    "La base de données d'images vient du lien suivant:\n",
    "https://www.kaggle.com/aksha05/flower-image-dataset\n",
    "## Requirements : "
   ]
  },
  {
   "cell_type": "code",
   "execution_count": null,
   "id": "480f5202-5367-4a3d-a3b6-d640fb51efae",
   "metadata": {},
   "outputs": [],
   "source": [
    "from PIL import Image\n",
    "from pandas import json_normalize\n",
    "import pandas as pd\n",
    "import json\n",
    "import os\n",
    "import numpy\n",
    "import math\n",
    "import matplotlib.pyplot as plot\n",
    "import time\n",
    "from sklearn.cluster import MiniBatchKMeans\n",
    "from sklearn.cluster import KMeans"
   ]
  },
  {
   "cell_type": "markdown",
   "id": "4e6c5227-4af1-432b-afc3-b873b7fdb8a9",
   "metadata": {},
   "source": [
    "## Récupération des données et organisation de ces données dans un fichier json:"
   ]
  },
  {
   "cell_type": "code",
   "execution_count": null,
   "id": "48284326-e5c1-4722-a3fb-36d4d486c01b",
   "metadata": {},
   "outputs": [],
   "source": [
    "path = \"images/flowers\"\n",
    "dataJson = open('data.json', 'w')\n",
    "dataTot = []\n",
    "for file in os.listdir(path): #On peut lire l'ensemble des fichiers présents dans le dossier donné par path\n",
    "    data = {}\n",
    "    if file[0] != \".\": #On exclue les fichiers \"cachés\"\n",
    "        new_path = path + \"/\" + file\n",
    "        image = Image.open(new_path) #Récupération de l'image avec le module Image de PIL\n",
    "        tupleSize = image.size\n",
    "        data[\"id_picture\"] = int(file[-6:-4])\n",
    "        data[\"name\"] = file[:-10]\n",
    "        data[\"size\"] = tupleSize\n",
    "        data[\"format\"] = image.format\n",
    "        if tupleSize[0] > tupleSize[1] : \n",
    "            data[\"orientation\"] = \"paysage\"\n",
    "        elif tupleSize[0] < tupleSize[1] :\n",
    "            data[\"orientation\"] = \"portrait\"\n",
    "        else:\n",
    "            data[\"orientation\"] = \"carre\"\n",
    "        dataTot.append(data)\n",
    "\n",
    "json.dump(dataTot,dataJson, indent = 4)\n",
    "dataJson.close()\n",
    "dataTot_frame = json_normalize(dataTot)\n",
    "print(dataTot_frame)\n",
    "\n"
   ]
  },
  {
   "cell_type": "markdown",
   "id": "1414d65a-03ad-40e5-99cd-049df06c8011",
   "metadata": {},
   "source": [
    "## Détection des couleurs prédominantes"
   ]
  },
  {
   "cell_type": "code",
   "execution_count": null,
   "id": "167fa0cc-a34e-4ee8-8eba-c196a09d09ee",
   "metadata": {},
   "outputs": [],
   "source": [
    "start_time = time.time()\n",
    "imgfile = Image.open(\"images/flowers/daisies_00046.jpg\")\n",
    "n_clusters = 4 #int(input(\"Nombre de clusters pour l'algorithme des K-Means: \"))\n",
    "numarray = numpy.array(imgfile.getdata(), numpy.uint8)\n",
    "clusters = KMeans(n_clusters)\n",
    "clusters.fit(numarray)\n",
    "npbins = numpy.arange(0, n_clusters+1)\n",
    "histogram = numpy.histogram(clusters.labels_, bins=npbins)\n",
    "labels = numpy.unique(clusters.labels_)\n",
    "index1 = {}\n",
    "for i,element in enumerate(histogram[0]):\n",
    "    index1[element] = i\n",
    "#print(index1)\n",
    "histoSort = sorted(histogram[0], reverse=True)\n",
    "#print(histoSort)\n",
    "index2 = {}\n",
    "for i,element in enumerate(histoSort):\n",
    "    index2[i] = element\n",
    "#print(index2)\n",
    "barlist = plot.bar(labels, histoSort)\n",
    "colors = []\n",
    "for k in range(n_clusters):\n",
    "    i = index1[index2[k]]\n",
    "    colors.append('#%02x%02x%02x' % (\n",
    "    math.ceil(clusters.cluster_centers_[i][0]), \n",
    "        math.ceil(clusters.cluster_centers_[i][1]),\n",
    "    math.ceil(clusters.cluster_centers_[i][2])))\n",
    "    barlist[k].set_color('#%02x%02x%02x' % (\n",
    "    math.ceil(clusters.cluster_centers_[i][0]), \n",
    "        math.ceil(clusters.cluster_centers_[i][1]),\n",
    "    math.ceil(clusters.cluster_centers_[i][2])))\n",
    "plot.show()\n",
    "end_time = time.time()\n",
    "total_time = end_time - start_time\n",
    "print(total_time)"
   ]
  },
  {
   "cell_type": "code",
   "execution_count": null,
   "id": "60d06450-c399-40d3-8efc-84e48d0e8899",
   "metadata": {},
   "outputs": [],
   "source": [
    "start_time = time.time()\n",
    "imgfile = Image.open(\"images/flowers/daisies_00046.jpg\")\n",
    "n_clusters = 4\n",
    "numarray = numpy.array(imgfile.getdata(), numpy.uint8)\n",
    "clusters = MiniBatchKMeans(n_clusters)\n",
    "clusters.fit(numarray)\n",
    "npbins = numpy.arange(0, n_clusters+1)\n",
    "histogram = numpy.histogram(clusters.labels_, bins=npbins)\n",
    "labels = numpy.unique(clusters.labels_)\n",
    "index1 = {}\n",
    "for i,element in enumerate(histogram[0]):\n",
    "    index1[element] = i\n",
    "#print(index1)\n",
    "histoSort = sorted(histogram[0], reverse=True)\n",
    "#print(histoSort)\n",
    "index2 = {}\n",
    "for i,element in enumerate(histoSort):\n",
    "    index2[i] = element\n",
    "#print(index2)\n",
    "barlist = plot.bar(labels, histoSort)\n",
    "colors = []\n",
    "for k in range(n_clusters):\n",
    "    i = index1[index2[k]]\n",
    "    colors.append('#%02x%02x%02x' % (\n",
    "    math.ceil(clusters.cluster_centers_[i][0]), #RGB normalement 0:R 1:G 2:B\n",
    "        math.ceil(clusters.cluster_centers_[i][1]),\n",
    "    math.ceil(clusters.cluster_centers_[i][2])))\n",
    "    barlist[k].set_color('#%02x%02x%02x' % (\n",
    "    math.ceil(clusters.cluster_centers_[i][0]), \n",
    "        math.ceil(clusters.cluster_centers_[i][1]),\n",
    "    math.ceil(clusters.cluster_centers_[i][2])))\n",
    "plot.show()\n",
    "end_time = time.time()\n",
    "total_time = end_time - start_time\n",
    "print(total_time)"
   ]
  },
  {
   "cell_type": "markdown",
   "id": "02568388-2f8a-49e2-9a25-8529609c3b67",
   "metadata": {},
   "source": [
    "Ici on remarque bien que l'algorithme MiniBatchKMeans va beaucoup plus vite que l'algorithme des KMeans bien qu'il soit moins précis. Nous décidons de l'utiliser tout de même car nous ne pouvons pas nous permettre de prendre trop de temps pour traiter les 700 images !"
   ]
  },
  {
   "cell_type": "code",
   "execution_count": null,
   "id": "868d1382-d5ab-4ff7-af78-92cb7feca93a",
   "metadata": {},
   "outputs": [],
   "source": []
  }
 ],
 "metadata": {
  "kernelspec": {
   "display_name": "Python 3 (ipykernel)",
   "language": "python",
   "name": "python3"
  },
  "language_info": {
   "codemirror_mode": {
    "name": "ipython",
    "version": 3
   },
   "file_extension": ".py",
   "mimetype": "text/x-python",
   "name": "python",
   "nbconvert_exporter": "python",
   "pygments_lexer": "ipython3",
   "version": "3.9.7"
  }
 },
 "nbformat": 4,
 "nbformat_minor": 5
}
